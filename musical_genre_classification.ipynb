{
 "cells": [
  {
   "cell_type": "markdown",
   "metadata": {},
   "source": [
    "* Baixar todo o dataset\n",
    "* Conseguir importar o dataset\n",
    "* Inicialmente trabalhar com o dataset inteiro e utilizar as diferentes extrações de features\n",
    "* Depois ir pelo segundo caminho"
   ]
  },
  {
   "cell_type": "code",
   "execution_count": 123,
   "metadata": {},
   "outputs": [],
   "source": [
    "import matplotlib.pyplot as plt\n",
    "import numpy as np\n",
    "import pandas as pd\n",
    "import librosa\n",
    "import librosa.display\n",
    "from os import listdir\n",
    "from os.path import isfile, join\n",
    "\n",
    "import glob\n",
    "from sklearn import svm"
   ]
  },
  {
   "cell_type": "markdown",
   "metadata": {},
   "source": [
    "# Dataset"
   ]
  },
  {
   "cell_type": "code",
   "execution_count": 73,
   "metadata": {},
   "outputs": [],
   "source": [
    "def import_signal(path):\n",
    "    files = glob.glob(path + '*.au')\n",
    "    \n",
    "    audios = []\n",
    "    \n",
    "    for file in files:  \n",
    "        s, sr = librosa.core.load(file, sr=22050)\n",
    "        audios.append(s)\n",
    "\n",
    "    return audios, sr"
   ]
  },
  {
   "cell_type": "markdown",
   "metadata": {},
   "source": [
    "## pop 0"
   ]
  },
  {
   "cell_type": "code",
   "execution_count": 259,
   "metadata": {},
   "outputs": [],
   "source": [
    "pop_audios, pop_sr = import_signal('dataset/pop/')"
   ]
  },
  {
   "cell_type": "code",
   "execution_count": 274,
   "metadata": {},
   "outputs": [
    {
     "data": {
      "text/html": [
       "<div>\n",
       "<style scoped>\n",
       "    .dataframe tbody tr th:only-of-type {\n",
       "        vertical-align: middle;\n",
       "    }\n",
       "\n",
       "    .dataframe tbody tr th {\n",
       "        vertical-align: top;\n",
       "    }\n",
       "\n",
       "    .dataframe thead th {\n",
       "        text-align: right;\n",
       "    }\n",
       "</style>\n",
       "<table border=\"1\" class=\"dataframe\">\n",
       "  <thead>\n",
       "    <tr style=\"text-align: right;\">\n",
       "      <th></th>\n",
       "      <th>x</th>\n",
       "      <th>y</th>\n",
       "      <th>y2</th>\n",
       "    </tr>\n",
       "  </thead>\n",
       "  <tbody>\n",
       "    <tr>\n",
       "      <th>0</th>\n",
       "      <td>[-0.0340271, -0.043304443, -0.0463562, -0.0431...</td>\n",
       "      <td>0</td>\n",
       "      <td>0</td>\n",
       "    </tr>\n",
       "    <tr>\n",
       "      <th>1</th>\n",
       "      <td>[-0.058288574, 0.01071167, 0.09915161, 0.07913...</td>\n",
       "      <td>0</td>\n",
       "      <td>0</td>\n",
       "    </tr>\n",
       "    <tr>\n",
       "      <th>2</th>\n",
       "      <td>[-0.26919556, -0.24667358, -0.18579102, -0.136...</td>\n",
       "      <td>0</td>\n",
       "      <td>0</td>\n",
       "    </tr>\n",
       "    <tr>\n",
       "      <th>3</th>\n",
       "      <td>[-0.2119751, -0.0675354, -0.18411255, 0.024597...</td>\n",
       "      <td>0</td>\n",
       "      <td>0</td>\n",
       "    </tr>\n",
       "    <tr>\n",
       "      <th>4</th>\n",
       "      <td>[-0.02709961, -0.023712158, 0.052215576, 0.084...</td>\n",
       "      <td>0</td>\n",
       "      <td>0</td>\n",
       "    </tr>\n",
       "  </tbody>\n",
       "</table>\n",
       "</div>"
      ],
      "text/plain": [
       "                                                   x  y  y2\n",
       "0  [-0.0340271, -0.043304443, -0.0463562, -0.0431...  0   0\n",
       "1  [-0.058288574, 0.01071167, 0.09915161, 0.07913...  0   0\n",
       "2  [-0.26919556, -0.24667358, -0.18579102, -0.136...  0   0\n",
       "3  [-0.2119751, -0.0675354, -0.18411255, 0.024597...  0   0\n",
       "4  [-0.02709961, -0.023712158, 0.052215576, 0.084...  0   0"
      ]
     },
     "execution_count": 274,
     "metadata": {},
     "output_type": "execute_result"
    }
   ],
   "source": [
    "pop_audios_df = pd.DataFrame([[x] for x in pop_audios], columns=['x'])\n",
    "pop_audios_df['y'] = 0\n",
    "pop_audios_df['y2'] = 0\n",
    "\n",
    "pop_audios_df.head()"
   ]
  },
  {
   "cell_type": "markdown",
   "metadata": {},
   "source": [
    "## classical 1"
   ]
  },
  {
   "cell_type": "code",
   "execution_count": 261,
   "metadata": {},
   "outputs": [],
   "source": [
    "classical_audios, classical_sr = import_signal('dataset/classical/')"
   ]
  },
  {
   "cell_type": "code",
   "execution_count": 275,
   "metadata": {},
   "outputs": [
    {
     "data": {
      "text/html": [
       "<div>\n",
       "<style scoped>\n",
       "    .dataframe tbody tr th:only-of-type {\n",
       "        vertical-align: middle;\n",
       "    }\n",
       "\n",
       "    .dataframe tbody tr th {\n",
       "        vertical-align: top;\n",
       "    }\n",
       "\n",
       "    .dataframe thead th {\n",
       "        text-align: right;\n",
       "    }\n",
       "</style>\n",
       "<table border=\"1\" class=\"dataframe\">\n",
       "  <thead>\n",
       "    <tr style=\"text-align: right;\">\n",
       "      <th></th>\n",
       "      <th>x</th>\n",
       "      <th>y</th>\n",
       "      <th>y2</th>\n",
       "    </tr>\n",
       "  </thead>\n",
       "  <tbody>\n",
       "    <tr>\n",
       "      <th>0</th>\n",
       "      <td>[-0.06484985, -0.10720825, -0.109436035, -0.09...</td>\n",
       "      <td>1</td>\n",
       "      <td>0</td>\n",
       "    </tr>\n",
       "    <tr>\n",
       "      <th>1</th>\n",
       "      <td>[0.007537842, 0.011444092, 0.010345459, 0.0132...</td>\n",
       "      <td>1</td>\n",
       "      <td>0</td>\n",
       "    </tr>\n",
       "    <tr>\n",
       "      <th>2</th>\n",
       "      <td>[0.023345947, 0.028686523, 0.027038574, 0.0279...</td>\n",
       "      <td>1</td>\n",
       "      <td>0</td>\n",
       "    </tr>\n",
       "    <tr>\n",
       "      <th>3</th>\n",
       "      <td>[0.007843018, 0.0072631836, 0.0058288574, 0.00...</td>\n",
       "      <td>1</td>\n",
       "      <td>0</td>\n",
       "    </tr>\n",
       "    <tr>\n",
       "      <th>4</th>\n",
       "      <td>[-0.010772705, -0.020019531, -0.024261475, -0....</td>\n",
       "      <td>1</td>\n",
       "      <td>0</td>\n",
       "    </tr>\n",
       "  </tbody>\n",
       "</table>\n",
       "</div>"
      ],
      "text/plain": [
       "                                                   x  y  y2\n",
       "0  [-0.06484985, -0.10720825, -0.109436035, -0.09...  1   0\n",
       "1  [0.007537842, 0.011444092, 0.010345459, 0.0132...  1   0\n",
       "2  [0.023345947, 0.028686523, 0.027038574, 0.0279...  1   0\n",
       "3  [0.007843018, 0.0072631836, 0.0058288574, 0.00...  1   0\n",
       "4  [-0.010772705, -0.020019531, -0.024261475, -0....  1   0"
      ]
     },
     "execution_count": 275,
     "metadata": {},
     "output_type": "execute_result"
    }
   ],
   "source": [
    "classical_audios_df = pd.DataFrame([[x] for x in classical_audios], columns=['x'])\n",
    "classical_audios_df['y'] = 1\n",
    "classical_audios_df['y2'] = 0\n",
    "\n",
    "classical_audios_df.head()"
   ]
  },
  {
   "cell_type": "markdown",
   "metadata": {},
   "source": [
    "## jazz 2"
   ]
  },
  {
   "cell_type": "code",
   "execution_count": 263,
   "metadata": {},
   "outputs": [],
   "source": [
    "jazz_audios, jazz_sr = import_signal('dataset/jazz/')"
   ]
  },
  {
   "cell_type": "code",
   "execution_count": 276,
   "metadata": {},
   "outputs": [
    {
     "data": {
      "text/html": [
       "<div>\n",
       "<style scoped>\n",
       "    .dataframe tbody tr th:only-of-type {\n",
       "        vertical-align: middle;\n",
       "    }\n",
       "\n",
       "    .dataframe tbody tr th {\n",
       "        vertical-align: top;\n",
       "    }\n",
       "\n",
       "    .dataframe thead th {\n",
       "        text-align: right;\n",
       "    }\n",
       "</style>\n",
       "<table border=\"1\" class=\"dataframe\">\n",
       "  <thead>\n",
       "    <tr style=\"text-align: right;\">\n",
       "      <th></th>\n",
       "      <th>x</th>\n",
       "      <th>y</th>\n",
       "      <th>y2</th>\n",
       "    </tr>\n",
       "  </thead>\n",
       "  <tbody>\n",
       "    <tr>\n",
       "      <th>0</th>\n",
       "      <td>[-0.031066895, -0.05078125, -0.04537964, -0.04...</td>\n",
       "      <td>2</td>\n",
       "      <td>1</td>\n",
       "    </tr>\n",
       "    <tr>\n",
       "      <th>1</th>\n",
       "      <td>[0.0019836426, 0.0014343262, -0.0017089844, -0...</td>\n",
       "      <td>2</td>\n",
       "      <td>1</td>\n",
       "    </tr>\n",
       "    <tr>\n",
       "      <th>2</th>\n",
       "      <td>[-0.03414917, -0.04660034, -0.027648926, -0.01...</td>\n",
       "      <td>2</td>\n",
       "      <td>1</td>\n",
       "    </tr>\n",
       "    <tr>\n",
       "      <th>3</th>\n",
       "      <td>[-0.021911621, -0.03604126, -0.039001465, -0.0...</td>\n",
       "      <td>2</td>\n",
       "      <td>1</td>\n",
       "    </tr>\n",
       "    <tr>\n",
       "      <th>4</th>\n",
       "      <td>[0.030456543, 0.010772705, -0.008544922, -0.02...</td>\n",
       "      <td>2</td>\n",
       "      <td>1</td>\n",
       "    </tr>\n",
       "  </tbody>\n",
       "</table>\n",
       "</div>"
      ],
      "text/plain": [
       "                                                   x  y  y2\n",
       "0  [-0.031066895, -0.05078125, -0.04537964, -0.04...  2   1\n",
       "1  [0.0019836426, 0.0014343262, -0.0017089844, -0...  2   1\n",
       "2  [-0.03414917, -0.04660034, -0.027648926, -0.01...  2   1\n",
       "3  [-0.021911621, -0.03604126, -0.039001465, -0.0...  2   1\n",
       "4  [0.030456543, 0.010772705, -0.008544922, -0.02...  2   1"
      ]
     },
     "execution_count": 276,
     "metadata": {},
     "output_type": "execute_result"
    }
   ],
   "source": [
    "jazz_audios_df = pd.DataFrame([[x] for x in jazz_audios], columns=['x'])\n",
    "jazz_audios_df['y'] = 2\n",
    "jazz_audios_df['y2'] = 1\n",
    "\n",
    "jazz_audios_df.head()"
   ]
  },
  {
   "cell_type": "markdown",
   "metadata": {},
   "source": [
    "## rock 3"
   ]
  },
  {
   "cell_type": "code",
   "execution_count": 265,
   "metadata": {},
   "outputs": [],
   "source": [
    "rock_audios, rock_sr = import_signal('dataset/rock/')"
   ]
  },
  {
   "cell_type": "code",
   "execution_count": 277,
   "metadata": {},
   "outputs": [
    {
     "data": {
      "text/html": [
       "<div>\n",
       "<style scoped>\n",
       "    .dataframe tbody tr th:only-of-type {\n",
       "        vertical-align: middle;\n",
       "    }\n",
       "\n",
       "    .dataframe tbody tr th {\n",
       "        vertical-align: top;\n",
       "    }\n",
       "\n",
       "    .dataframe thead th {\n",
       "        text-align: right;\n",
       "    }\n",
       "</style>\n",
       "<table border=\"1\" class=\"dataframe\">\n",
       "  <thead>\n",
       "    <tr style=\"text-align: right;\">\n",
       "      <th></th>\n",
       "      <th>x</th>\n",
       "      <th>y</th>\n",
       "      <th>y2</th>\n",
       "    </tr>\n",
       "  </thead>\n",
       "  <tbody>\n",
       "    <tr>\n",
       "      <th>0</th>\n",
       "      <td>[0.035339355, 0.053375244, -0.0047912598, 0.00...</td>\n",
       "      <td>3</td>\n",
       "      <td>1</td>\n",
       "    </tr>\n",
       "    <tr>\n",
       "      <th>1</th>\n",
       "      <td>[-0.07858276, -0.1638794, -0.11288452, 0.00088...</td>\n",
       "      <td>3</td>\n",
       "      <td>1</td>\n",
       "    </tr>\n",
       "    <tr>\n",
       "      <th>2</th>\n",
       "      <td>[-0.026824951, -0.038757324, -0.029693604, -0....</td>\n",
       "      <td>3</td>\n",
       "      <td>1</td>\n",
       "    </tr>\n",
       "    <tr>\n",
       "      <th>3</th>\n",
       "      <td>[-0.023529053, -0.03363037, -0.03527832, -0.04...</td>\n",
       "      <td>3</td>\n",
       "      <td>1</td>\n",
       "    </tr>\n",
       "    <tr>\n",
       "      <th>4</th>\n",
       "      <td>[-0.026641846, -0.051208496, -0.05618286, -0.0...</td>\n",
       "      <td>3</td>\n",
       "      <td>1</td>\n",
       "    </tr>\n",
       "  </tbody>\n",
       "</table>\n",
       "</div>"
      ],
      "text/plain": [
       "                                                   x  y  y2\n",
       "0  [0.035339355, 0.053375244, -0.0047912598, 0.00...  3   1\n",
       "1  [-0.07858276, -0.1638794, -0.11288452, 0.00088...  3   1\n",
       "2  [-0.026824951, -0.038757324, -0.029693604, -0....  3   1\n",
       "3  [-0.023529053, -0.03363037, -0.03527832, -0.04...  3   1\n",
       "4  [-0.026641846, -0.051208496, -0.05618286, -0.0...  3   1"
      ]
     },
     "execution_count": 277,
     "metadata": {},
     "output_type": "execute_result"
    }
   ],
   "source": [
    "rock_audios_df = pd.DataFrame([[x] for x in rock_audios], columns=['x'])\n",
    "rock_audios_df['y'] = 3\n",
    "rock_audios_df['y2'] = 1\n",
    "\n",
    "rock_audios_df.head()"
   ]
  },
  {
   "cell_type": "code",
   "execution_count": 278,
   "metadata": {},
   "outputs": [
    {
     "data": {
      "text/plain": [
       "True"
      ]
     },
     "execution_count": 278,
     "metadata": {},
     "output_type": "execute_result"
    }
   ],
   "source": [
    "pop_sr == classical_sr == jazz_sr == rock_sr"
   ]
  },
  {
   "cell_type": "code",
   "execution_count": 279,
   "metadata": {},
   "outputs": [],
   "source": [
    "sr = pop_sr"
   ]
  },
  {
   "cell_type": "markdown",
   "metadata": {},
   "source": [
    "# get audios df"
   ]
  },
  {
   "cell_type": "code",
   "execution_count": 280,
   "metadata": {},
   "outputs": [
    {
     "name": "stdout",
     "output_type": "stream",
     "text": [
      "Rows: 400\n"
     ]
    },
    {
     "data": {
      "text/html": [
       "<div>\n",
       "<style scoped>\n",
       "    .dataframe tbody tr th:only-of-type {\n",
       "        vertical-align: middle;\n",
       "    }\n",
       "\n",
       "    .dataframe tbody tr th {\n",
       "        vertical-align: top;\n",
       "    }\n",
       "\n",
       "    .dataframe thead th {\n",
       "        text-align: right;\n",
       "    }\n",
       "</style>\n",
       "<table border=\"1\" class=\"dataframe\">\n",
       "  <thead>\n",
       "    <tr style=\"text-align: right;\">\n",
       "      <th></th>\n",
       "      <th>x</th>\n",
       "      <th>y</th>\n",
       "      <th>y2</th>\n",
       "    </tr>\n",
       "  </thead>\n",
       "  <tbody>\n",
       "    <tr>\n",
       "      <th>0</th>\n",
       "      <td>[0.06652832, 0.16467285, 0.2319336, 0.27746582...</td>\n",
       "      <td>2</td>\n",
       "      <td>1</td>\n",
       "    </tr>\n",
       "    <tr>\n",
       "      <th>1</th>\n",
       "      <td>[-0.0034484863, -0.0024414062, -0.0015869141, ...</td>\n",
       "      <td>2</td>\n",
       "      <td>1</td>\n",
       "    </tr>\n",
       "    <tr>\n",
       "      <th>2</th>\n",
       "      <td>[-0.10986328, -0.076049805, -0.07336426, -0.08...</td>\n",
       "      <td>3</td>\n",
       "      <td>1</td>\n",
       "    </tr>\n",
       "    <tr>\n",
       "      <th>3</th>\n",
       "      <td>[0.012420654, 0.07501221, 0.05819702, 0.014953...</td>\n",
       "      <td>3</td>\n",
       "      <td>1</td>\n",
       "    </tr>\n",
       "    <tr>\n",
       "      <th>4</th>\n",
       "      <td>[-0.035217285, -0.03540039, 0.018859863, 0.061...</td>\n",
       "      <td>2</td>\n",
       "      <td>1</td>\n",
       "    </tr>\n",
       "  </tbody>\n",
       "</table>\n",
       "</div>"
      ],
      "text/plain": [
       "                                                   x  y  y2\n",
       "0  [0.06652832, 0.16467285, 0.2319336, 0.27746582...  2   1\n",
       "1  [-0.0034484863, -0.0024414062, -0.0015869141, ...  2   1\n",
       "2  [-0.10986328, -0.076049805, -0.07336426, -0.08...  3   1\n",
       "3  [0.012420654, 0.07501221, 0.05819702, 0.014953...  3   1\n",
       "4  [-0.035217285, -0.03540039, 0.018859863, 0.061...  2   1"
      ]
     },
     "execution_count": 280,
     "metadata": {},
     "output_type": "execute_result"
    }
   ],
   "source": [
    "audios = (\n",
    "    pd.concat([\n",
    "        pop_audios_df, classical_audios_df, \n",
    "        jazz_audios_df, rock_audios_df])\n",
    "    .sample(frac=1).reset_index(drop=True) #shuffle\n",
    ")\n",
    "\n",
    "print(f'Rows: {len(audios)}')\n",
    "audios.head()"
   ]
  },
  {
   "cell_type": "markdown",
   "metadata": {},
   "source": [
    "# split into train and test"
   ]
  },
  {
   "cell_type": "code",
   "execution_count": 281,
   "metadata": {},
   "outputs": [
    {
     "name": "stdout",
     "output_type": "stream",
     "text": [
      "Rows train:332\n",
      "Rows test:68\n"
     ]
    }
   ],
   "source": [
    "msk = np.random.rand(len(audios)) < 0.8\n",
    "\n",
    "train = audios[msk]\n",
    "test = audios[~msk]\n",
    "\n",
    "print(f'Rows train:{len(train)}')\n",
    "print(f'Rows test:{len(test)}')"
   ]
  },
  {
   "cell_type": "code",
   "execution_count": 282,
   "metadata": {},
   "outputs": [
    {
     "data": {
      "text/html": [
       "<div>\n",
       "<style scoped>\n",
       "    .dataframe tbody tr th:only-of-type {\n",
       "        vertical-align: middle;\n",
       "    }\n",
       "\n",
       "    .dataframe tbody tr th {\n",
       "        vertical-align: top;\n",
       "    }\n",
       "\n",
       "    .dataframe thead th {\n",
       "        text-align: right;\n",
       "    }\n",
       "</style>\n",
       "<table border=\"1\" class=\"dataframe\">\n",
       "  <thead>\n",
       "    <tr style=\"text-align: right;\">\n",
       "      <th></th>\n",
       "      <th>x</th>\n",
       "      <th>y2</th>\n",
       "    </tr>\n",
       "    <tr>\n",
       "      <th>y</th>\n",
       "      <th></th>\n",
       "      <th></th>\n",
       "    </tr>\n",
       "  </thead>\n",
       "  <tbody>\n",
       "    <tr>\n",
       "      <th>0</th>\n",
       "      <td>77</td>\n",
       "      <td>77</td>\n",
       "    </tr>\n",
       "    <tr>\n",
       "      <th>1</th>\n",
       "      <td>89</td>\n",
       "      <td>89</td>\n",
       "    </tr>\n",
       "    <tr>\n",
       "      <th>2</th>\n",
       "      <td>80</td>\n",
       "      <td>80</td>\n",
       "    </tr>\n",
       "    <tr>\n",
       "      <th>3</th>\n",
       "      <td>86</td>\n",
       "      <td>86</td>\n",
       "    </tr>\n",
       "  </tbody>\n",
       "</table>\n",
       "</div>"
      ],
      "text/plain": [
       "    x  y2\n",
       "y        \n",
       "0  77  77\n",
       "1  89  89\n",
       "2  80  80\n",
       "3  86  86"
      ]
     },
     "execution_count": 282,
     "metadata": {},
     "output_type": "execute_result"
    }
   ],
   "source": [
    "train.groupby('y').count()"
   ]
  },
  {
   "cell_type": "code",
   "execution_count": 283,
   "metadata": {},
   "outputs": [
    {
     "data": {
      "text/html": [
       "<div>\n",
       "<style scoped>\n",
       "    .dataframe tbody tr th:only-of-type {\n",
       "        vertical-align: middle;\n",
       "    }\n",
       "\n",
       "    .dataframe tbody tr th {\n",
       "        vertical-align: top;\n",
       "    }\n",
       "\n",
       "    .dataframe thead th {\n",
       "        text-align: right;\n",
       "    }\n",
       "</style>\n",
       "<table border=\"1\" class=\"dataframe\">\n",
       "  <thead>\n",
       "    <tr style=\"text-align: right;\">\n",
       "      <th></th>\n",
       "      <th>x</th>\n",
       "      <th>y2</th>\n",
       "    </tr>\n",
       "    <tr>\n",
       "      <th>y</th>\n",
       "      <th></th>\n",
       "      <th></th>\n",
       "    </tr>\n",
       "  </thead>\n",
       "  <tbody>\n",
       "    <tr>\n",
       "      <th>0</th>\n",
       "      <td>23</td>\n",
       "      <td>23</td>\n",
       "    </tr>\n",
       "    <tr>\n",
       "      <th>1</th>\n",
       "      <td>11</td>\n",
       "      <td>11</td>\n",
       "    </tr>\n",
       "    <tr>\n",
       "      <th>2</th>\n",
       "      <td>20</td>\n",
       "      <td>20</td>\n",
       "    </tr>\n",
       "    <tr>\n",
       "      <th>3</th>\n",
       "      <td>14</td>\n",
       "      <td>14</td>\n",
       "    </tr>\n",
       "  </tbody>\n",
       "</table>\n",
       "</div>"
      ],
      "text/plain": [
       "    x  y2\n",
       "y        \n",
       "0  23  23\n",
       "1  11  11\n",
       "2  20  20\n",
       "3  14  14"
      ]
     },
     "execution_count": 283,
     "metadata": {},
     "output_type": "execute_result"
    }
   ],
   "source": [
    "test.groupby('y').count()"
   ]
  },
  {
   "cell_type": "code",
   "execution_count": 284,
   "metadata": {},
   "outputs": [
    {
     "data": {
      "text/html": [
       "<div>\n",
       "<style scoped>\n",
       "    .dataframe tbody tr th:only-of-type {\n",
       "        vertical-align: middle;\n",
       "    }\n",
       "\n",
       "    .dataframe tbody tr th {\n",
       "        vertical-align: top;\n",
       "    }\n",
       "\n",
       "    .dataframe thead th {\n",
       "        text-align: right;\n",
       "    }\n",
       "</style>\n",
       "<table border=\"1\" class=\"dataframe\">\n",
       "  <thead>\n",
       "    <tr style=\"text-align: right;\">\n",
       "      <th></th>\n",
       "      <th>x</th>\n",
       "      <th>y</th>\n",
       "    </tr>\n",
       "    <tr>\n",
       "      <th>y2</th>\n",
       "      <th></th>\n",
       "      <th></th>\n",
       "    </tr>\n",
       "  </thead>\n",
       "  <tbody>\n",
       "    <tr>\n",
       "      <th>0</th>\n",
       "      <td>166</td>\n",
       "      <td>166</td>\n",
       "    </tr>\n",
       "    <tr>\n",
       "      <th>1</th>\n",
       "      <td>166</td>\n",
       "      <td>166</td>\n",
       "    </tr>\n",
       "  </tbody>\n",
       "</table>\n",
       "</div>"
      ],
      "text/plain": [
       "      x    y\n",
       "y2          \n",
       "0   166  166\n",
       "1   166  166"
      ]
     },
     "execution_count": 284,
     "metadata": {},
     "output_type": "execute_result"
    }
   ],
   "source": [
    "train.groupby('y2').count()"
   ]
  },
  {
   "cell_type": "code",
   "execution_count": 285,
   "metadata": {},
   "outputs": [
    {
     "data": {
      "text/html": [
       "<div>\n",
       "<style scoped>\n",
       "    .dataframe tbody tr th:only-of-type {\n",
       "        vertical-align: middle;\n",
       "    }\n",
       "\n",
       "    .dataframe tbody tr th {\n",
       "        vertical-align: top;\n",
       "    }\n",
       "\n",
       "    .dataframe thead th {\n",
       "        text-align: right;\n",
       "    }\n",
       "</style>\n",
       "<table border=\"1\" class=\"dataframe\">\n",
       "  <thead>\n",
       "    <tr style=\"text-align: right;\">\n",
       "      <th></th>\n",
       "      <th>x</th>\n",
       "      <th>y</th>\n",
       "    </tr>\n",
       "    <tr>\n",
       "      <th>y2</th>\n",
       "      <th></th>\n",
       "      <th></th>\n",
       "    </tr>\n",
       "  </thead>\n",
       "  <tbody>\n",
       "    <tr>\n",
       "      <th>0</th>\n",
       "      <td>34</td>\n",
       "      <td>34</td>\n",
       "    </tr>\n",
       "    <tr>\n",
       "      <th>1</th>\n",
       "      <td>34</td>\n",
       "      <td>34</td>\n",
       "    </tr>\n",
       "  </tbody>\n",
       "</table>\n",
       "</div>"
      ],
      "text/plain": [
       "     x   y\n",
       "y2        \n",
       "0   34  34\n",
       "1   34  34"
      ]
     },
     "execution_count": 285,
     "metadata": {},
     "output_type": "execute_result"
    }
   ],
   "source": [
    "test.groupby('y2').count()"
   ]
  },
  {
   "cell_type": "markdown",
   "metadata": {},
   "source": [
    "# Feature extraction"
   ]
  },
  {
   "cell_type": "markdown",
   "metadata": {},
   "source": [
    "## MFCC"
   ]
  },
  {
   "cell_type": "code",
   "execution_count": 286,
   "metadata": {},
   "outputs": [
    {
     "name": "stderr",
     "output_type": "stream",
     "text": [
      "/home/marina/anaconda3/lib/python3.7/site-packages/ipykernel_launcher.py:9: SettingWithCopyWarning: \n",
      "A value is trying to be set on a copy of a slice from a DataFrame.\n",
      "Try using .loc[row_indexer,col_indexer] = value instead\n",
      "\n",
      "See the caveats in the documentation: http://pandas.pydata.org/pandas-docs/stable/indexing.html#indexing-view-versus-copy\n",
      "  if __name__ == '__main__':\n"
     ]
    },
    {
     "data": {
      "text/html": [
       "<div>\n",
       "<style scoped>\n",
       "    .dataframe tbody tr th:only-of-type {\n",
       "        vertical-align: middle;\n",
       "    }\n",
       "\n",
       "    .dataframe tbody tr th {\n",
       "        vertical-align: top;\n",
       "    }\n",
       "\n",
       "    .dataframe thead th {\n",
       "        text-align: right;\n",
       "    }\n",
       "</style>\n",
       "<table border=\"1\" class=\"dataframe\">\n",
       "  <thead>\n",
       "    <tr style=\"text-align: right;\">\n",
       "      <th></th>\n",
       "      <th>x</th>\n",
       "      <th>y</th>\n",
       "      <th>y2</th>\n",
       "      <th>mfcc</th>\n",
       "    </tr>\n",
       "  </thead>\n",
       "  <tbody>\n",
       "    <tr>\n",
       "      <th>0</th>\n",
       "      <td>[0.06652832, 0.16467285, 0.2319336, 0.27746582...</td>\n",
       "      <td>2</td>\n",
       "      <td>1</td>\n",
       "      <td>[-108.22129821777344, -117.17276000976562, -10...</td>\n",
       "    </tr>\n",
       "    <tr>\n",
       "      <th>1</th>\n",
       "      <td>[-0.0034484863, -0.0024414062, -0.0015869141, ...</td>\n",
       "      <td>2</td>\n",
       "      <td>1</td>\n",
       "      <td>[-369.7628173828125, -354.6846618652344, -351....</td>\n",
       "    </tr>\n",
       "    <tr>\n",
       "      <th>2</th>\n",
       "      <td>[-0.10986328, -0.076049805, -0.07336426, -0.08...</td>\n",
       "      <td>3</td>\n",
       "      <td>1</td>\n",
       "      <td>[-105.29022216796875, -103.15363311767578, -11...</td>\n",
       "    </tr>\n",
       "    <tr>\n",
       "      <th>3</th>\n",
       "      <td>[0.012420654, 0.07501221, 0.05819702, 0.014953...</td>\n",
       "      <td>3</td>\n",
       "      <td>1</td>\n",
       "      <td>[-132.9656219482422, -119.15519714355469, -87....</td>\n",
       "    </tr>\n",
       "    <tr>\n",
       "      <th>4</th>\n",
       "      <td>[-0.035217285, -0.03540039, 0.018859863, 0.061...</td>\n",
       "      <td>2</td>\n",
       "      <td>1</td>\n",
       "      <td>[-121.95355224609375, -135.16209411621094, -15...</td>\n",
       "    </tr>\n",
       "  </tbody>\n",
       "</table>\n",
       "</div>"
      ],
      "text/plain": [
       "                                                   x  y  y2  \\\n",
       "0  [0.06652832, 0.16467285, 0.2319336, 0.27746582...  2   1   \n",
       "1  [-0.0034484863, -0.0024414062, -0.0015869141, ...  2   1   \n",
       "2  [-0.10986328, -0.076049805, -0.07336426, -0.08...  3   1   \n",
       "3  [0.012420654, 0.07501221, 0.05819702, 0.014953...  3   1   \n",
       "4  [-0.035217285, -0.03540039, 0.018859863, 0.061...  2   1   \n",
       "\n",
       "                                                mfcc  \n",
       "0  [-108.22129821777344, -117.17276000976562, -10...  \n",
       "1  [-369.7628173828125, -354.6846618652344, -351....  \n",
       "2  [-105.29022216796875, -103.15363311767578, -11...  \n",
       "3  [-132.9656219482422, -119.15519714355469, -87....  \n",
       "4  [-121.95355224609375, -135.16209411621094, -15...  "
      ]
     },
     "execution_count": 286,
     "metadata": {},
     "output_type": "execute_result"
    }
   ],
   "source": [
    "mfcc_list_train = []\n",
    "\n",
    "for x in train['x']:\n",
    "      \n",
    "    mfcc = np.array(librosa.feature.mfcc(y=x, sr=sr)).flatten()\n",
    "    zeros = np.zeros((26280 - len(mfcc)))\n",
    "    mfcc_list_train.append(np.concatenate((mfcc, zeros), axis=0))\n",
    "    \n",
    "train['mfcc'] = mfcc_list_train\n",
    "train.head()"
   ]
  },
  {
   "cell_type": "code",
   "execution_count": 287,
   "metadata": {},
   "outputs": [
    {
     "name": "stderr",
     "output_type": "stream",
     "text": [
      "/home/marina/anaconda3/lib/python3.7/site-packages/ipykernel_launcher.py:9: SettingWithCopyWarning: \n",
      "A value is trying to be set on a copy of a slice from a DataFrame.\n",
      "Try using .loc[row_indexer,col_indexer] = value instead\n",
      "\n",
      "See the caveats in the documentation: http://pandas.pydata.org/pandas-docs/stable/indexing.html#indexing-view-versus-copy\n",
      "  if __name__ == '__main__':\n"
     ]
    },
    {
     "data": {
      "text/html": [
       "<div>\n",
       "<style scoped>\n",
       "    .dataframe tbody tr th:only-of-type {\n",
       "        vertical-align: middle;\n",
       "    }\n",
       "\n",
       "    .dataframe tbody tr th {\n",
       "        vertical-align: top;\n",
       "    }\n",
       "\n",
       "    .dataframe thead th {\n",
       "        text-align: right;\n",
       "    }\n",
       "</style>\n",
       "<table border=\"1\" class=\"dataframe\">\n",
       "  <thead>\n",
       "    <tr style=\"text-align: right;\">\n",
       "      <th></th>\n",
       "      <th>x</th>\n",
       "      <th>y</th>\n",
       "      <th>y2</th>\n",
       "      <th>mfcc</th>\n",
       "    </tr>\n",
       "  </thead>\n",
       "  <tbody>\n",
       "    <tr>\n",
       "      <th>11</th>\n",
       "      <td>[0.0074768066, -0.009674072, -0.011138916, -0....</td>\n",
       "      <td>2</td>\n",
       "      <td>1</td>\n",
       "      <td>[-175.67343139648438, -142.95144653320312, -11...</td>\n",
       "    </tr>\n",
       "    <tr>\n",
       "      <th>24</th>\n",
       "      <td>[0.058685303, 0.043151855, 0.06188965, 0.08190...</td>\n",
       "      <td>3</td>\n",
       "      <td>1</td>\n",
       "      <td>[-71.61068725585938, -80.95719909667969, -98.1...</td>\n",
       "    </tr>\n",
       "    <tr>\n",
       "      <th>25</th>\n",
       "      <td>[-0.016723633, 0.0024719238, -0.0020751953, 0....</td>\n",
       "      <td>0</td>\n",
       "      <td>0</td>\n",
       "      <td>[-104.91387939453125, -112.64622497558594, -13...</td>\n",
       "    </tr>\n",
       "    <tr>\n",
       "      <th>28</th>\n",
       "      <td>[-0.024993896, -0.018157959, -0.020233154, 0.0...</td>\n",
       "      <td>0</td>\n",
       "      <td>0</td>\n",
       "      <td>[-117.60298919677734, -112.92239379882812, -13...</td>\n",
       "    </tr>\n",
       "    <tr>\n",
       "      <th>36</th>\n",
       "      <td>[0.05722046, 0.06097412, 0.06286621, 0.0684204...</td>\n",
       "      <td>0</td>\n",
       "      <td>0</td>\n",
       "      <td>[-283.2794189453125, -298.8136901855469, -313....</td>\n",
       "    </tr>\n",
       "  </tbody>\n",
       "</table>\n",
       "</div>"
      ],
      "text/plain": [
       "                                                    x  y  y2  \\\n",
       "11  [0.0074768066, -0.009674072, -0.011138916, -0....  2   1   \n",
       "24  [0.058685303, 0.043151855, 0.06188965, 0.08190...  3   1   \n",
       "25  [-0.016723633, 0.0024719238, -0.0020751953, 0....  0   0   \n",
       "28  [-0.024993896, -0.018157959, -0.020233154, 0.0...  0   0   \n",
       "36  [0.05722046, 0.06097412, 0.06286621, 0.0684204...  0   0   \n",
       "\n",
       "                                                 mfcc  \n",
       "11  [-175.67343139648438, -142.95144653320312, -11...  \n",
       "24  [-71.61068725585938, -80.95719909667969, -98.1...  \n",
       "25  [-104.91387939453125, -112.64622497558594, -13...  \n",
       "28  [-117.60298919677734, -112.92239379882812, -13...  \n",
       "36  [-283.2794189453125, -298.8136901855469, -313....  "
      ]
     },
     "execution_count": 287,
     "metadata": {},
     "output_type": "execute_result"
    }
   ],
   "source": [
    "mfcc_list_test = []\n",
    "\n",
    "for x in test['x']:\n",
    "    \n",
    "    mfcc = np.array(librosa.feature.mfcc(y=x, sr=sr)).flatten()\n",
    "    zeros = np.zeros((26280 - len(mfcc)))\n",
    "    mfcc_list_test.append(np.concatenate((mfcc, zeros), axis=0))\n",
    "    \n",
    "test['mfcc'] = mfcc_list_test\n",
    "test.head()"
   ]
  },
  {
   "cell_type": "markdown",
   "metadata": {},
   "source": [
    "## LPC"
   ]
  },
  {
   "cell_type": "code",
   "execution_count": 288,
   "metadata": {},
   "outputs": [
    {
     "name": "stderr",
     "output_type": "stream",
     "text": [
      "/home/marina/anaconda3/lib/python3.7/site-packages/ipykernel_launcher.py:8: SettingWithCopyWarning: \n",
      "A value is trying to be set on a copy of a slice from a DataFrame.\n",
      "Try using .loc[row_indexer,col_indexer] = value instead\n",
      "\n",
      "See the caveats in the documentation: http://pandas.pydata.org/pandas-docs/stable/indexing.html#indexing-view-versus-copy\n",
      "  \n"
     ]
    },
    {
     "data": {
      "text/html": [
       "<div>\n",
       "<style scoped>\n",
       "    .dataframe tbody tr th:only-of-type {\n",
       "        vertical-align: middle;\n",
       "    }\n",
       "\n",
       "    .dataframe tbody tr th {\n",
       "        vertical-align: top;\n",
       "    }\n",
       "\n",
       "    .dataframe thead th {\n",
       "        text-align: right;\n",
       "    }\n",
       "</style>\n",
       "<table border=\"1\" class=\"dataframe\">\n",
       "  <thead>\n",
       "    <tr style=\"text-align: right;\">\n",
       "      <th></th>\n",
       "      <th>x</th>\n",
       "      <th>y</th>\n",
       "      <th>y2</th>\n",
       "      <th>mfcc</th>\n",
       "      <th>lpc</th>\n",
       "    </tr>\n",
       "  </thead>\n",
       "  <tbody>\n",
       "    <tr>\n",
       "      <th>0</th>\n",
       "      <td>[0.06652832, 0.16467285, 0.2319336, 0.27746582...</td>\n",
       "      <td>2</td>\n",
       "      <td>1</td>\n",
       "      <td>[-108.22129821777344, -117.17276000976562, -10...</td>\n",
       "      <td>[1.0, -2.2199454, 2.1710544, -1.6874472, 1.325...</td>\n",
       "    </tr>\n",
       "    <tr>\n",
       "      <th>1</th>\n",
       "      <td>[-0.0034484863, -0.0024414062, -0.0015869141, ...</td>\n",
       "      <td>2</td>\n",
       "      <td>1</td>\n",
       "      <td>[-369.7628173828125, -354.6846618652344, -351....</td>\n",
       "      <td>[1.0, -0.6939274, 0.24118969, -0.18175718, 0.0...</td>\n",
       "    </tr>\n",
       "    <tr>\n",
       "      <th>2</th>\n",
       "      <td>[-0.10986328, -0.076049805, -0.07336426, -0.08...</td>\n",
       "      <td>3</td>\n",
       "      <td>1</td>\n",
       "      <td>[-105.29022216796875, -103.15363311767578, -11...</td>\n",
       "      <td>[1.0, -0.58800584, -0.2648997, -0.13331528, 0....</td>\n",
       "    </tr>\n",
       "    <tr>\n",
       "      <th>3</th>\n",
       "      <td>[0.012420654, 0.07501221, 0.05819702, 0.014953...</td>\n",
       "      <td>3</td>\n",
       "      <td>1</td>\n",
       "      <td>[-132.9656219482422, -119.15519714355469, -87....</td>\n",
       "      <td>[1.0, -1.5170932, 1.2510097, -1.3537242, 0.940...</td>\n",
       "    </tr>\n",
       "    <tr>\n",
       "      <th>4</th>\n",
       "      <td>[-0.035217285, -0.03540039, 0.018859863, 0.061...</td>\n",
       "      <td>2</td>\n",
       "      <td>1</td>\n",
       "      <td>[-121.95355224609375, -135.16209411621094, -15...</td>\n",
       "      <td>[1.0, -2.7162657, 3.5172086, -3.239585, 2.3423...</td>\n",
       "    </tr>\n",
       "  </tbody>\n",
       "</table>\n",
       "</div>"
      ],
      "text/plain": [
       "                                                   x  y  y2  \\\n",
       "0  [0.06652832, 0.16467285, 0.2319336, 0.27746582...  2   1   \n",
       "1  [-0.0034484863, -0.0024414062, -0.0015869141, ...  2   1   \n",
       "2  [-0.10986328, -0.076049805, -0.07336426, -0.08...  3   1   \n",
       "3  [0.012420654, 0.07501221, 0.05819702, 0.014953...  3   1   \n",
       "4  [-0.035217285, -0.03540039, 0.018859863, 0.061...  2   1   \n",
       "\n",
       "                                                mfcc  \\\n",
       "0  [-108.22129821777344, -117.17276000976562, -10...   \n",
       "1  [-369.7628173828125, -354.6846618652344, -351....   \n",
       "2  [-105.29022216796875, -103.15363311767578, -11...   \n",
       "3  [-132.9656219482422, -119.15519714355469, -87....   \n",
       "4  [-121.95355224609375, -135.16209411621094, -15...   \n",
       "\n",
       "                                                 lpc  \n",
       "0  [1.0, -2.2199454, 2.1710544, -1.6874472, 1.325...  \n",
       "1  [1.0, -0.6939274, 0.24118969, -0.18175718, 0.0...  \n",
       "2  [1.0, -0.58800584, -0.2648997, -0.13331528, 0....  \n",
       "3  [1.0, -1.5170932, 1.2510097, -1.3537242, 0.940...  \n",
       "4  [1.0, -2.7162657, 3.5172086, -3.239585, 2.3423...  "
      ]
     },
     "execution_count": 288,
     "metadata": {},
     "output_type": "execute_result"
    }
   ],
   "source": [
    "lpc_list = []\n",
    "\n",
    "for x in train['x']:\n",
    "    \n",
    "    lpc = librosa.lpc(x, 6)\n",
    "    lpc_list.append(lpc)\n",
    "    \n",
    "train['lpc'] = lpc_list\n",
    "train.head()"
   ]
  },
  {
   "cell_type": "code",
   "execution_count": 289,
   "metadata": {},
   "outputs": [
    {
     "name": "stderr",
     "output_type": "stream",
     "text": [
      "/home/marina/anaconda3/lib/python3.7/site-packages/ipykernel_launcher.py:8: SettingWithCopyWarning: \n",
      "A value is trying to be set on a copy of a slice from a DataFrame.\n",
      "Try using .loc[row_indexer,col_indexer] = value instead\n",
      "\n",
      "See the caveats in the documentation: http://pandas.pydata.org/pandas-docs/stable/indexing.html#indexing-view-versus-copy\n",
      "  \n"
     ]
    },
    {
     "data": {
      "text/html": [
       "<div>\n",
       "<style scoped>\n",
       "    .dataframe tbody tr th:only-of-type {\n",
       "        vertical-align: middle;\n",
       "    }\n",
       "\n",
       "    .dataframe tbody tr th {\n",
       "        vertical-align: top;\n",
       "    }\n",
       "\n",
       "    .dataframe thead th {\n",
       "        text-align: right;\n",
       "    }\n",
       "</style>\n",
       "<table border=\"1\" class=\"dataframe\">\n",
       "  <thead>\n",
       "    <tr style=\"text-align: right;\">\n",
       "      <th></th>\n",
       "      <th>x</th>\n",
       "      <th>y</th>\n",
       "      <th>y2</th>\n",
       "      <th>mfcc</th>\n",
       "      <th>lpc</th>\n",
       "    </tr>\n",
       "  </thead>\n",
       "  <tbody>\n",
       "    <tr>\n",
       "      <th>11</th>\n",
       "      <td>[0.0074768066, -0.009674072, -0.011138916, -0....</td>\n",
       "      <td>2</td>\n",
       "      <td>1</td>\n",
       "      <td>[-175.67343139648438, -142.95144653320312, -11...</td>\n",
       "      <td>[1.0, -0.44715104, -0.35266197, 0.030646903, -...</td>\n",
       "    </tr>\n",
       "    <tr>\n",
       "      <th>24</th>\n",
       "      <td>[0.058685303, 0.043151855, 0.06188965, 0.08190...</td>\n",
       "      <td>3</td>\n",
       "      <td>1</td>\n",
       "      <td>[-71.61068725585938, -80.95719909667969, -98.1...</td>\n",
       "      <td>[1.0, -1.2091802, 0.45889673, -0.061906826, -0...</td>\n",
       "    </tr>\n",
       "    <tr>\n",
       "      <th>25</th>\n",
       "      <td>[-0.016723633, 0.0024719238, -0.0020751953, 0....</td>\n",
       "      <td>0</td>\n",
       "      <td>0</td>\n",
       "      <td>[-104.91387939453125, -112.64622497558594, -13...</td>\n",
       "      <td>[1.0, -0.6648732, -0.28418458, 0.19508383, 0.0...</td>\n",
       "    </tr>\n",
       "    <tr>\n",
       "      <th>28</th>\n",
       "      <td>[-0.024993896, -0.018157959, -0.020233154, 0.0...</td>\n",
       "      <td>0</td>\n",
       "      <td>0</td>\n",
       "      <td>[-117.60298919677734, -112.92239379882812, -13...</td>\n",
       "      <td>[1.0, -1.2219975, -0.020330312, 0.52670175, -0...</td>\n",
       "    </tr>\n",
       "    <tr>\n",
       "      <th>36</th>\n",
       "      <td>[0.05722046, 0.06097412, 0.06286621, 0.0684204...</td>\n",
       "      <td>0</td>\n",
       "      <td>0</td>\n",
       "      <td>[-283.2794189453125, -298.8136901855469, -313....</td>\n",
       "      <td>[1.0, -0.6768958, -0.041079897, -0.01663456, -...</td>\n",
       "    </tr>\n",
       "  </tbody>\n",
       "</table>\n",
       "</div>"
      ],
      "text/plain": [
       "                                                    x  y  y2  \\\n",
       "11  [0.0074768066, -0.009674072, -0.011138916, -0....  2   1   \n",
       "24  [0.058685303, 0.043151855, 0.06188965, 0.08190...  3   1   \n",
       "25  [-0.016723633, 0.0024719238, -0.0020751953, 0....  0   0   \n",
       "28  [-0.024993896, -0.018157959, -0.020233154, 0.0...  0   0   \n",
       "36  [0.05722046, 0.06097412, 0.06286621, 0.0684204...  0   0   \n",
       "\n",
       "                                                 mfcc  \\\n",
       "11  [-175.67343139648438, -142.95144653320312, -11...   \n",
       "24  [-71.61068725585938, -80.95719909667969, -98.1...   \n",
       "25  [-104.91387939453125, -112.64622497558594, -13...   \n",
       "28  [-117.60298919677734, -112.92239379882812, -13...   \n",
       "36  [-283.2794189453125, -298.8136901855469, -313....   \n",
       "\n",
       "                                                  lpc  \n",
       "11  [1.0, -0.44715104, -0.35266197, 0.030646903, -...  \n",
       "24  [1.0, -1.2091802, 0.45889673, -0.061906826, -0...  \n",
       "25  [1.0, -0.6648732, -0.28418458, 0.19508383, 0.0...  \n",
       "28  [1.0, -1.2219975, -0.020330312, 0.52670175, -0...  \n",
       "36  [1.0, -0.6768958, -0.041079897, -0.01663456, -...  "
      ]
     },
     "execution_count": 289,
     "metadata": {},
     "output_type": "execute_result"
    }
   ],
   "source": [
    "lpc_list = []\n",
    "\n",
    "for x in test['x']:\n",
    "    \n",
    "    lpc = librosa.lpc(x, 6)\n",
    "    lpc_list.append(lpc)\n",
    "    \n",
    "test['lpc'] = lpc_list\n",
    "test.head()"
   ]
  },
  {
   "cell_type": "markdown",
   "metadata": {},
   "source": [
    "# First Scenario"
   ]
  },
  {
   "cell_type": "markdown",
   "metadata": {},
   "source": [
    "## Plot functions"
   ]
  },
  {
   "cell_type": "code",
   "execution_count": null,
   "metadata": {},
   "outputs": [],
   "source": [
    "# pesquisar"
   ]
  },
  {
   "cell_type": "markdown",
   "metadata": {},
   "source": [
    "## Using MFCC"
   ]
  },
  {
   "cell_type": "code",
   "execution_count": 220,
   "metadata": {},
   "outputs": [
    {
     "name": "stderr",
     "output_type": "stream",
     "text": [
      "/home/marina/anaconda3/lib/python3.7/site-packages/sklearn/svm/base.py:196: FutureWarning: The default value of gamma will change from 'auto' to 'scale' in version 0.22 to account better for unscaled features. Set gamma explicitly to 'auto' or 'scale' to avoid this warning.\n",
      "  \"avoid this warning.\", FutureWarning)\n"
     ]
    },
    {
     "data": {
      "text/plain": [
       "SVC(C=1.0, cache_size=200, class_weight=None, coef0=0.0,\n",
       "  decision_function_shape='ovr', degree=3, gamma='auto_deprecated',\n",
       "  kernel='rbf', max_iter=-1, probability=False, random_state=None,\n",
       "  shrinking=True, tol=0.001, verbose=False)"
      ]
     },
     "execution_count": 220,
     "metadata": {},
     "output_type": "execute_result"
    }
   ],
   "source": [
    "model_mfcc = svm.SVC()\n",
    "model_mfcc.fit(train['mfcc'].to_list(), train['y'].to_list())"
   ]
  },
  {
   "cell_type": "code",
   "execution_count": 221,
   "metadata": {},
   "outputs": [
    {
     "name": "stdout",
     "output_type": "stream",
     "text": [
      "Train accuracy: 100.0%\n",
      "Test accuracy: 24.4%\n"
     ]
    }
   ],
   "source": [
    "print('Train accuracy: {:.1%}'.format(model_mfcc.score(train['mfcc'].to_list(), train['y'].to_list())))\n",
    "print('Test accuracy: {:.1%}'.format(model_mfcc.score(test['mfcc'].to_list(), test['y'].to_list())))"
   ]
  },
  {
   "cell_type": "markdown",
   "metadata": {},
   "source": [
    "## Using LPC"
   ]
  },
  {
   "cell_type": "code",
   "execution_count": 248,
   "metadata": {},
   "outputs": [
    {
     "name": "stderr",
     "output_type": "stream",
     "text": [
      "/home/marina/anaconda3/lib/python3.7/site-packages/sklearn/svm/base.py:196: FutureWarning: The default value of gamma will change from 'auto' to 'scale' in version 0.22 to account better for unscaled features. Set gamma explicitly to 'auto' or 'scale' to avoid this warning.\n",
      "  \"avoid this warning.\", FutureWarning)\n"
     ]
    },
    {
     "data": {
      "text/plain": [
       "SVC(C=1.0, cache_size=200, class_weight=None, coef0=0.0,\n",
       "  decision_function_shape='ovr', degree=3, gamma='auto_deprecated',\n",
       "  kernel='rbf', max_iter=-1, probability=False, random_state=None,\n",
       "  shrinking=True, tol=0.001, verbose=False)"
      ]
     },
     "execution_count": 248,
     "metadata": {},
     "output_type": "execute_result"
    }
   ],
   "source": [
    "model_lpc = svm.SVC()\n",
    "model_lpc.fit(train['lpc'].to_list(), train['y'].to_list())"
   ]
  },
  {
   "cell_type": "code",
   "execution_count": 249,
   "metadata": {},
   "outputs": [
    {
     "name": "stdout",
     "output_type": "stream",
     "text": [
      "Train accuracy: 70.1%\n",
      "Test accuracy: 69.8%\n"
     ]
    }
   ],
   "source": [
    "print('Train accuracy: {:.1%}'.format(model_lpc.score(train['lpc'].to_list(), train['y'].to_list())))\n",
    "print('Test accuracy: {:.1%}'.format(model_lpc.score(test['lpc'].to_list(), test['y'].to_list())))"
   ]
  },
  {
   "cell_type": "markdown",
   "metadata": {},
   "source": [
    "## Using MFCC and LPC"
   ]
  },
  {
   "cell_type": "code",
   "execution_count": null,
   "metadata": {},
   "outputs": [],
   "source": []
  },
  {
   "cell_type": "code",
   "execution_count": null,
   "metadata": {},
   "outputs": [],
   "source": []
  },
  {
   "cell_type": "code",
   "execution_count": null,
   "metadata": {},
   "outputs": [],
   "source": []
  },
  {
   "cell_type": "markdown",
   "metadata": {},
   "source": [
    "# Second Scenario"
   ]
  },
  {
   "cell_type": "code",
   "execution_count": 290,
   "metadata": {},
   "outputs": [
    {
     "name": "stderr",
     "output_type": "stream",
     "text": [
      "/home/marina/anaconda3/lib/python3.7/site-packages/sklearn/svm/base.py:196: FutureWarning: The default value of gamma will change from 'auto' to 'scale' in version 0.22 to account better for unscaled features. Set gamma explicitly to 'auto' or 'scale' to avoid this warning.\n",
      "  \"avoid this warning.\", FutureWarning)\n"
     ]
    },
    {
     "data": {
      "text/plain": [
       "SVC(C=1.0, cache_size=200, class_weight=None, coef0=0.0,\n",
       "  decision_function_shape='ovr', degree=3, gamma='auto_deprecated',\n",
       "  kernel='rbf', max_iter=-1, probability=False, random_state=None,\n",
       "  shrinking=True, tol=0.001, verbose=False)"
      ]
     },
     "execution_count": 290,
     "metadata": {},
     "output_type": "execute_result"
    }
   ],
   "source": [
    "model_lpc = svm.SVC()\n",
    "model_lpc.fit(train['lpc'].to_list(), train['y2'].to_list())"
   ]
  },
  {
   "cell_type": "code",
   "execution_count": 291,
   "metadata": {},
   "outputs": [
    {
     "name": "stdout",
     "output_type": "stream",
     "text": [
      "Train accuracy: 78.6%\n",
      "Test accuracy: 73.5%\n"
     ]
    }
   ],
   "source": [
    "print('Train accuracy: {:.1%}'.format(model_lpc.score(train['lpc'].to_list(), train['y2'].to_list())))\n",
    "print('Test accuracy: {:.1%}'.format(model_lpc.score(test['lpc'].to_list(), test['y2'].to_list())))"
   ]
  },
  {
   "cell_type": "code",
   "execution_count": null,
   "metadata": {},
   "outputs": [],
   "source": []
  },
  {
   "cell_type": "code",
   "execution_count": null,
   "metadata": {},
   "outputs": [],
   "source": []
  },
  {
   "cell_type": "code",
   "execution_count": null,
   "metadata": {},
   "outputs": [],
   "source": []
  },
  {
   "cell_type": "code",
   "execution_count": null,
   "metadata": {},
   "outputs": [],
   "source": []
  },
  {
   "cell_type": "code",
   "execution_count": null,
   "metadata": {},
   "outputs": [],
   "source": []
  },
  {
   "cell_type": "code",
   "execution_count": null,
   "metadata": {},
   "outputs": [],
   "source": []
  },
  {
   "cell_type": "code",
   "execution_count": null,
   "metadata": {},
   "outputs": [],
   "source": []
  },
  {
   "cell_type": "code",
   "execution_count": null,
   "metadata": {},
   "outputs": [],
   "source": []
  },
  {
   "cell_type": "markdown",
   "metadata": {},
   "source": [
    "## Second Scenario"
   ]
  }
 ],
 "metadata": {
  "kernelspec": {
   "display_name": "Python 3",
   "language": "python",
   "name": "python3"
  },
  "language_info": {
   "codemirror_mode": {
    "name": "ipython",
    "version": 3
   },
   "file_extension": ".py",
   "mimetype": "text/x-python",
   "name": "python",
   "nbconvert_exporter": "python",
   "pygments_lexer": "ipython3",
   "version": "3.7.3"
  }
 },
 "nbformat": 4,
 "nbformat_minor": 2
}
